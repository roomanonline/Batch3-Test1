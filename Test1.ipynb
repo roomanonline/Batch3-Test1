{
 "cells": [
  {
   "cell_type": "markdown",
   "metadata": {},
   "source": [
    "# Welcome To Coding Test"
   ]
  },
  {
   "cell_type": "markdown",
   "metadata": {},
   "source": [
    "###### Important Instructions: Coping code from internet will be considered as malpractice and will not be provided with any marks"
   ]
  },
  {
   "cell_type": "markdown",
   "metadata": {},
   "source": [
    "###### Write a script to define a function which takes the input from user and maintains employee_database consist of:\n",
    "    \n",
    "      Employee Name\n",
    "        \n",
    "      Salary \n",
    "    \n",
    "      Company Name\n",
    "        \n",
    ", and the function should return all the details and display the database as shown below.\n",
    "\n",
    "##### Sample Input:\n",
    "    \n",
    "Enter Employee Name: jack\n",
    "    \n",
    "Enter salary: 5000\n",
    "    \n",
    "Enter Company name: hp\n",
    "\n",
    "##### Sample output:\n",
    "    \n",
    "Employee Name: jack\n",
    "    \n",
    "Salary:  5000\n",
    "    \n",
    "Company Name: hp\n",
    "    \n",
    "##### Condition: Function should return all the employee details at once.\n"
   ]
  },
  {
   "cell_type": "code",
   "execution_count": null,
   "metadata": {},
   "outputs": [],
   "source": []
  },
  {
   "cell_type": "markdown",
   "metadata": {},
   "source": [
    "###### Instruction: Write the below code using def() as well as lambda()\n",
    "\n",
    "##### Given the list of integer elements write a script to find the product of all the numbers in the list and find if the result is even product or odd product. \n",
    "\n",
    "#### Sample Input:\n",
    "\n",
    "[10,12,13,45,6,80,7]\n",
    "\n",
    "#### Sample Output:\n",
    "\n",
    "Total Product: 235872000\n",
    "\n",
    "235872000 is an Even Product\n"
   ]
  },
  {
   "cell_type": "code",
   "execution_count": null,
   "metadata": {},
   "outputs": [],
   "source": []
  },
  {
   "cell_type": "markdown",
   "metadata": {},
   "source": [
    "###### Given the list which have whole numbers and real numbers,, write a script to:\n",
    "\n",
    "#### Map all the Quotients, when the numbers in the list is divided by 5\n",
    "\n",
    "#### Filter all the Quotients, if the quotient is greater than 5\n",
    "\n",
    "#### Find the sum of all Quotients, which is greater than 5.\n",
    "\n",
    "#### Print the type of total sum.\n",
    "\n",
    "#### Sample Input:\n",
    "\n",
    "[10,25.5,8.6,79,54,9.6]\n",
    "\n",
    "#### Sample Output:\n",
    "\n",
    "List of Quotients : [2.0, 5.1, 1.72, 15.8, 10.8, 1.92]\n",
    "\n",
    "List of Quotients greater than 5: [5.1, 15.8, 10.8]\n",
    "\n",
    "Total Sum of all Quotients: 31.7\n",
    "\n",
    "Sum type <class 'float'>\n"
   ]
  },
  {
   "cell_type": "code",
   "execution_count": null,
   "metadata": {},
   "outputs": [],
   "source": []
  }
 ],
 "metadata": {
  "kernelspec": {
   "display_name": "Python 3",
   "language": "python",
   "name": "python3"
  },
  "language_info": {
   "codemirror_mode": {
    "name": "ipython",
    "version": 3
   },
   "file_extension": ".py",
   "mimetype": "text/x-python",
   "name": "python",
   "nbconvert_exporter": "python",
   "pygments_lexer": "ipython3",
   "version": "3.7.3"
  }
 },
 "nbformat": 4,
 "nbformat_minor": 4
}
